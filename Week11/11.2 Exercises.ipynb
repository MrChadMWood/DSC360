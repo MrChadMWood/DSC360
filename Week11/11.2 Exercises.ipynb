{
 "cells": [
  {
   "cell_type": "markdown",
   "id": "3006a023",
   "metadata": {},
   "source": [
    "===========================================\n",
    "\n",
    "Title: 10.2 Exercises\n",
    "\n",
    "Author: Chad Wood\n",
    "\n",
    "Date: 2 Mar 2022\n",
    "\n",
    "Modified By: Chad Wood\n",
    "\n",
    "Description: This program demonstrates building several machine learning models; two unsupervised models, two supervised models, and two supervised deep neural network models.\n",
    "\n",
    "==========================================="
   ]
  },
  {
   "cell_type": "code",
   "execution_count": 102,
   "id": "e35f00af",
   "metadata": {},
   "outputs": [],
   "source": [
    "import tensorflow.compat.v1 as tf\n",
    "import tensorflow_hub as hub\n",
    "import numpy as np\n",
    "import pandas as pd"
   ]
  },
  {
   "cell_type": "markdown",
   "id": "d53561d4",
   "metadata": {},
   "source": [
    "#### Data Preprocessing"
   ]
  },
  {
   "cell_type": "code",
   "execution_count": 96,
   "id": "081bd740",
   "metadata": {},
   "outputs": [],
   "source": [
    "# Data cleaned from exercises 10.2\n",
    "df = pd.read_csv('data/clean_hotel_reviews.csv') # Sentiment: 0=happy; 1=not happy\n",
    "\n",
    "# Updates Sentiment: 0=not happy; 1-happy\n",
    "df.sentiment = [0 if sentiment == 1 else 1 \n",
    "                for sentiment in df['sentiment'].values]\n",
    "\n",
    "# Equals the amount of data for either review (positive or negative)\n",
    "# Data is organised randomly\n",
    "tmp_bad_review_df = df.loc[df.sentiment == 1].sample(n=12411, random_state=1) # 12411 random bad reviews\n",
    "tmp_ood_review_df = df.loc[df.sentiment == 0].sample(n=12411, random_state=1) # 12411 random good reviews\n",
    "\n",
    "# Combines random samples of equal size\n",
    "processed_df = pd.concat([tmp_bad_review_df.sample(frac=1, random_state=1), # Randomly shuffles data\n",
    "                          tmp_ood_review_df.sample(frac=1, random_state=1)], # Randomly shuffles data\n",
    "                         ignore_index=True)\n",
    "\n",
    "# Randomly shuffles data\n",
    "processed_df = processed_df.sample(frac=1, random_state=1)"
   ]
  },
  {
   "cell_type": "code",
   "execution_count": 97,
   "id": "44f04e5d",
   "metadata": {},
   "outputs": [
    {
     "name": "stdout",
     "output_type": "stream",
     "text": [
      "Random bad Reviews: 12411\n",
      "Random Good Reviews: 12411\n",
      "Random combined Reviews: 24822\n"
     ]
    },
    {
     "data": {
      "text/html": [
       "<div>\n",
       "<style scoped>\n",
       "    .dataframe tbody tr th:only-of-type {\n",
       "        vertical-align: middle;\n",
       "    }\n",
       "\n",
       "    .dataframe tbody tr th {\n",
       "        vertical-align: top;\n",
       "    }\n",
       "\n",
       "    .dataframe thead th {\n",
       "        text-align: right;\n",
       "    }\n",
       "</style>\n",
       "<table border=\"1\" class=\"dataframe\">\n",
       "  <thead>\n",
       "    <tr style=\"text-align: right;\">\n",
       "      <th></th>\n",
       "      <th>sentiment</th>\n",
       "      <th>description</th>\n",
       "    </tr>\n",
       "  </thead>\n",
       "  <tbody>\n",
       "    <tr>\n",
       "      <th>6549</th>\n",
       "      <td>1</td>\n",
       "      <td>good business trip weekend \\n kind old inhot a...</td>\n",
       "    </tr>\n",
       "    <tr>\n",
       "      <th>13822</th>\n",
       "      <td>0</td>\n",
       "      <td>i not sure la quinta inn price line but experi...</td>\n",
       "    </tr>\n",
       "    <tr>\n",
       "      <th>13610</th>\n",
       "      <td>0</td>\n",
       "      <td>family stay weekend thru family reunion suite ...</td>\n",
       "    </tr>\n",
       "    <tr>\n",
       "      <th>18072</th>\n",
       "      <td>0</td>\n",
       "      <td>i consider place stay since budget decent revi...</td>\n",
       "    </tr>\n",
       "    <tr>\n",
       "      <th>10206</th>\n",
       "      <td>1</td>\n",
       "      <td>i stay day san diego marriott mission valley h...</td>\n",
       "    </tr>\n",
       "  </tbody>\n",
       "</table>\n",
       "</div>"
      ],
      "text/plain": [
       "       sentiment                                        description\n",
       "6549           1  good business trip weekend \\n kind old inhot a...\n",
       "13822          0  i not sure la quinta inn price line but experi...\n",
       "13610          0  family stay weekend thru family reunion suite ...\n",
       "18072          0  i consider place stay since budget decent revi...\n",
       "10206          1  i stay day san diego marriott mission valley h..."
      ]
     },
     "execution_count": 97,
     "metadata": {},
     "output_type": "execute_result"
    }
   ],
   "source": [
    "import re\n",
    "\n",
    "def normalize_corpus(corpus): \n",
    "    # To lowercase\n",
    "    corpus = corpus.apply(lambda x: str(x).lower())\n",
    "\n",
    "    # Creates uniform linebreaks\n",
    "    corpus = corpus.apply(lambda x: re.sub(r'[\\r|\\n|\\r\\n]+', '\\n', x))\n",
    "\n",
    "    # Removes double+ spaces\n",
    "    corpus = corpus.apply(lambda x: re.sub(' +', ' ', x))\n",
    "    corpus = corpus.apply(lambda x: x.strip())\n",
    "    \n",
    "    return corpus\n",
    "\n",
    "processed_df.description= normalize_corpus(processed_df.description)\n",
    "\n",
    "print('Random bad Reviews:', len(tmp_bad_review_df))\n",
    "print('Random Good Reviews:', len(tmp_ood_review_df))\n",
    "print('Random combined Reviews:', len(processed_df))\n",
    "processed_df.head()"
   ]
  },
  {
   "cell_type": "code",
   "execution_count": 98,
   "id": "ff2e4934",
   "metadata": {},
   "outputs": [
    {
     "name": "stdout",
     "output_type": "stream",
     "text": [
      "Reviews: Train  (17375,) Validate  (3723,) Test (3724,)\n",
      "Sentiments: Train  (17375,) Validate  (3723,) Test (3724,)\n"
     ]
    }
   ],
   "source": [
    "import numpy as np\n",
    "\n",
    "# Splits data for supervised model\n",
    "train, validate, test = np.split(processed_df.sample(frac=1, random_state=42), # Shuffles data\n",
    "                                 [int(.7*len(processed_df)), int(.85*len(processed_df))]) # Splits 0-70%; 70-85%; 85-100%\n",
    "\n",
    "\n",
    "print('Reviews:',\n",
    "      'Train ', train.description.shape, \n",
    "      'Validate ', validate.description.shape, \n",
    "      'Test', test.description.shape)\n",
    "\n",
    "print('Sentiments:',\n",
    "      'Train ', train.sentiment.shape, \n",
    "      'Validate ', validate.sentiment.shape, \n",
    "      'Test', test.sentiment.shape)"
   ]
  },
  {
   "cell_type": "markdown",
   "id": "ae833af1",
   "metadata": {},
   "source": [
    "#### Model Setup"
   ]
  },
  {
   "cell_type": "code",
   "execution_count": 114,
   "id": "2e811693",
   "metadata": {},
   "outputs": [],
   "source": [
    "# Training input\n",
    "train_input_fn = tf.estimator.inputs.numpy_input_fn(\n",
    "    {'review': train.description.values}, \n",
    "    train.sentiment.values, # Took me way too long to figure out using pandas.Series here is an issue\n",
    "    batch_size=256, \n",
    "    num_epochs=None, \n",
    "    shuffle=True)\n",
    "\n",
    "# Prediction for training set\n",
    "predict_train_input_fn = tf.estimator.inputs.numpy_input_fn(\n",
    "    {'review': train.description.values}, \n",
    "    train.sentiment.values, \n",
    "    shuffle=False)\n",
    "\n",
    "# Prediction for validation set\n",
    "predict_val_input_fn = tf.estimator.inputs.numpy_input_fn(\n",
    "    {'review': validate.description.values}, \n",
    "    validate.sentiment.values, \n",
    "    shuffle=False)\n",
    "\n",
    "# Prediction for test set\n",
    "predict_test_input_fn = tf.estimator.inputs.numpy_input_fn(\n",
    "    {'review': test.description.values}, \n",
    "    test.sentiment.values, \n",
    "    shuffle=False)"
   ]
  },
  {
   "cell_type": "markdown",
   "id": "33bd5827",
   "metadata": {},
   "source": [
    "#### Building The Model"
   ]
  },
  {
   "cell_type": "code",
   "execution_count": 115,
   "id": "4b1e649e",
   "metadata": {},
   "outputs": [],
   "source": [
    "# Instantiates sentence embeding feature\n",
    "embedding_feature = hub.text_embedding_column(\n",
    "    key='review',\n",
    "    module_spec=\"https://tfhub.dev/google/universal-sentence-encoder/2\", # Leverages Universal Sentence Encoder\n",
    "    trainable=False)"
   ]
  },
  {
   "cell_type": "code",
   "execution_count": 116,
   "id": "95f73ff4",
   "metadata": {},
   "outputs": [],
   "source": [
    "# Standard DeepNN with two hidden layers\n",
    "dnn = tf.estimator.DNNClassifier(\n",
    "    hidden_units=[512, 128],\n",
    "    feature_columns=[embedding_feature],\n",
    "    n_classes=2,\n",
    "    activation_fn=tf.nn.relu,\n",
    "    dropout=0.1,\n",
    "    optimizer=tf.train.AdagradOptimizer(learning_rate=0.005))"
   ]
  },
  {
   "cell_type": "markdown",
   "id": "e23984c3",
   "metadata": {},
   "source": [
    "#### Training Model"
   ]
  },
  {
   "cell_type": "code",
   "execution_count": 117,
   "id": "de6a7e14",
   "metadata": {},
   "outputs": [
    {
     "name": "stdout",
     "output_type": "stream",
     "text": [
      "\n",
      "--------------------------------------------------\n",
      "Training for step:  0\n",
      "Seconds Elapsed: 58.52726340293884\n",
      "Eval (Train): {'accuracy': 0.72529495, 'accuracy_baseline': 0.5010648, 'auc': 0.84812313, 'auc_precision_recall': 0.831663, 'average_loss': 0.5533835, 'label/mean': 0.5010648, 'loss': 70.698814, 'precision': 0.83946145, 'prediction/mean': 0.41545993, 'recall': 0.5585803, 'global_step': 10}\n",
      "Eval (Validation): {'accuracy': 0.7287134, 'accuracy_baseline': 0.5071179, 'auc': 0.8489317, 'auc_precision_recall': 0.8314737, 'average_loss': 0.5495644, 'label/mean': 0.49288207, 'loss': 68.20095, 'precision': 0.83509344, 'prediction/mean': 0.41456386, 'recall': 0.560218, 'global_step': 10}\n",
      "\n",
      "--------------------------------------------------\n",
      "Training for step:  10\n",
      "Seconds Elapsed: 44.85155534744263\n",
      "Eval (Train): {'accuracy': 0.77277696, 'accuracy_baseline': 0.5010648, 'auc': 0.8711769, 'auc_precision_recall': 0.86095464, 'average_loss': 0.49043998, 'label/mean': 0.5010648, 'loss': 62.657314, 'precision': 0.71428573, 'prediction/mean': 0.5941277, 'recall': 0.9108661, 'global_step': 20}\n",
      "Eval (Validation): {'accuracy': 0.7684663, 'accuracy_baseline': 0.5071179, 'auc': 0.8716136, 'auc_precision_recall': 0.8581778, 'average_loss': 0.49314016, 'label/mean': 0.49288207, 'loss': 61.198692, 'precision': 0.7046698, 'prediction/mean': 0.5912484, 'recall': 0.9128065, 'global_step': 20}\n",
      "\n",
      "--------------------------------------------------\n",
      "Training for step:  20\n",
      "Seconds Elapsed: 46.847519636154175\n",
      "Eval (Train): {'accuracy': 0.80195683, 'accuracy_baseline': 0.5010648, 'auc': 0.8830694, 'auc_precision_recall': 0.8762853, 'average_loss': 0.44062352, 'label/mean': 0.5010648, 'loss': 56.292892, 'precision': 0.7777778, 'prediction/mean': 0.52702534, 'recall': 0.84665745, 'global_step': 30}\n",
      "Eval (Validation): {'accuracy': 0.79532635, 'accuracy_baseline': 0.5071179, 'auc': 0.88309026, 'auc_precision_recall': 0.8749919, 'average_loss': 0.44175467, 'label/mean': 0.49288207, 'loss': 54.821754, 'precision': 0.76811594, 'prediction/mean': 0.52444094, 'recall': 0.8376022, 'global_step': 30}\n",
      "\n",
      "--------------------------------------------------\n",
      "Training for step:  30\n",
      "Seconds Elapsed: 45.020373821258545\n",
      "Eval (Train): {'accuracy': 0.8103597, 'accuracy_baseline': 0.5010648, 'auc': 0.8913412, 'auc_precision_recall': 0.8862962, 'average_loss': 0.42035723, 'label/mean': 0.5010648, 'loss': 53.703728, 'precision': 0.809094, 'prediction/mean': 0.49731886, 'recall': 0.81346196, 'global_step': 40}\n",
      "Eval (Validation): {'accuracy': 0.800967, 'accuracy_baseline': 0.5071179, 'auc': 0.89092004, 'auc_precision_recall': 0.885362, 'average_loss': 0.4210287, 'label/mean': 0.49288207, 'loss': 52.24966, 'precision': 0.7953564, 'prediction/mean': 0.49530056, 'recall': 0.8027248, 'global_step': 40}\n",
      "\n",
      "--------------------------------------------------\n",
      "Training for step:  40\n",
      "Seconds Elapsed: 43.168745279312134\n",
      "Eval (Train): {'accuracy': 0.809554, 'accuracy_baseline': 0.5010648, 'auc': 0.89528465, 'auc_precision_recall': 0.891055, 'average_loss': 0.416294, 'label/mean': 0.5010648, 'loss': 53.18462, 'precision': 0.8342624, 'prediction/mean': 0.46419308, 'recall': 0.7736044, 'global_step': 50}\n",
      "Eval (Validation): {'accuracy': 0.80499595, 'accuracy_baseline': 0.5071179, 'auc': 0.8947454, 'auc_precision_recall': 0.89025867, 'average_loss': 0.41548723, 'label/mean': 0.49288207, 'loss': 51.561966, 'precision': 0.8252199, 'prediction/mean': 0.46252868, 'recall': 0.7667575, 'global_step': 50}\n",
      "\n",
      "--------------------------------------------------\n",
      "Training for step:  50\n",
      "Seconds Elapsed: 42.83597946166992\n",
      "Eval (Train): {'accuracy': 0.8165755, 'accuracy_baseline': 0.5010648, 'auc': 0.8993183, 'auc_precision_recall': 0.89636785, 'average_loss': 0.40811712, 'label/mean': 0.5010648, 'loss': 52.13996, 'precision': 0.7913016, 'prediction/mean': 0.533684, 'recall': 0.8610154, 'global_step': 60}\n",
      "Eval (Validation): {'accuracy': 0.80875635, 'accuracy_baseline': 0.5071179, 'auc': 0.8982491, 'auc_precision_recall': 0.89451414, 'average_loss': 0.41175172, 'label/mean': 0.49288207, 'loss': 51.09839, 'precision': 0.77565044, 'prediction/mean': 0.532437, 'recall': 0.8610354, 'global_step': 60}\n",
      "\n",
      "--------------------------------------------------\n",
      "Training for step:  60\n",
      "Seconds Elapsed: 46.283658504486084\n",
      "Eval (Train): {'accuracy': 0.8148489, 'accuracy_baseline': 0.5010648, 'auc': 0.90193015, 'auc_precision_recall': 0.89962065, 'average_loss': 0.4124836, 'label/mean': 0.5010648, 'loss': 52.69781, 'precision': 0.7753587, 'prediction/mean': 0.5597259, 'recall': 0.88766366, 'global_step': 70}\n",
      "Eval (Validation): {'accuracy': 0.80419016, 'accuracy_baseline': 0.5071179, 'auc': 0.9006487, 'auc_precision_recall': 0.89733124, 'average_loss': 0.4179503, 'label/mean': 0.49288207, 'loss': 51.86763, 'precision': 0.75530934, 'prediction/mean': 0.55894, 'recall': 0.8915531, 'global_step': 70}\n",
      "\n",
      "--------------------------------------------------\n",
      "Training for step:  70\n",
      "Seconds Elapsed: 44.561607360839844\n",
      "Eval (Train): {'accuracy': 0.81392807, 'accuracy_baseline': 0.5010648, 'auc': 0.90234745, 'auc_precision_recall': 0.8998607, 'average_loss': 0.4070427, 'label/mean': 0.5010648, 'loss': 52.0027, 'precision': 0.85277814, 'prediction/mean': 0.44934958, 'recall': 0.7598208, 'global_step': 80}\n",
      "Eval (Validation): {'accuracy': 0.80499595, 'accuracy_baseline': 0.5071179, 'auc': 0.9009788, 'auc_precision_recall': 0.89836717, 'average_loss': 0.4063245, 'label/mean': 0.49288207, 'loss': 50.42487, 'precision': 0.83790374, 'prediction/mean': 0.4480456, 'recall': 0.7493188, 'global_step': 80}\n",
      "\n",
      "--------------------------------------------------\n",
      "Training for step:  80\n",
      "Seconds Elapsed: 44.04560470581055\n",
      "Eval (Train): {'accuracy': 0.82233095, 'accuracy_baseline': 0.5010648, 'auc': 0.9046208, 'auc_precision_recall': 0.90239364, 'average_loss': 0.39360467, 'label/mean': 0.5010648, 'loss': 50.28589, 'precision': 0.8309577, 'prediction/mean': 0.48591468, 'recall': 0.8102458, 'global_step': 90}\n",
      "Eval (Validation): {'accuracy': 0.8173516, 'accuracy_baseline': 0.5071179, 'auc': 0.90298736, 'auc_precision_recall': 0.90004826, 'average_loss': 0.39563492, 'label/mean': 0.49288207, 'loss': 49.098293, 'precision': 0.82101166, 'prediction/mean': 0.4846951, 'recall': 0.80490464, 'global_step': 90}\n",
      "\n",
      "--------------------------------------------------\n",
      "Training for step:  90\n",
      "Seconds Elapsed: 43.78226184844971\n",
      "Eval (Train): {'accuracy': 0.8149065, 'accuracy_baseline': 0.5010648, 'auc': 0.9062778, 'auc_precision_recall': 0.9048208, 'average_loss': 0.40839306, 'label/mean': 0.5010648, 'loss': 52.175217, 'precision': 0.7704433, 'prediction/mean': 0.5708821, 'recall': 0.8982311, 'global_step': 100}\n",
      "Eval (Validation): {'accuracy': 0.80875635, 'accuracy_baseline': 0.5071179, 'auc': 0.9047736, 'auc_precision_recall': 0.9021183, 'average_loss': 0.41516206, 'label/mean': 0.49288207, 'loss': 51.52161, 'precision': 0.75604194, 'prediction/mean': 0.57080936, 'recall': 0.9035422, 'global_step': 100}\n",
      "\n",
      "--------------------------------------------------\n",
      "Training for step:  100\n",
      "Seconds Elapsed: 41.223796129226685\n",
      "Eval (Train): {'accuracy': 0.8263597, 'accuracy_baseline': 0.5010648, 'auc': 0.90683585, 'auc_precision_recall': 0.9046333, 'average_loss': 0.3880878, 'label/mean': 0.5010648, 'loss': 49.581074, 'precision': 0.8324956, 'prediction/mean': 0.48873824, 'recall': 0.8180565, 'global_step': 110}\n",
      "Eval (Validation): {'accuracy': 0.821112, 'accuracy_baseline': 0.5071179, 'auc': 0.90535796, 'auc_precision_recall': 0.90307236, 'average_loss': 0.39000198, 'label/mean': 0.49288207, 'loss': 48.399246, 'precision': 0.820274, 'prediction/mean': 0.48753142, 'recall': 0.8158038, 'global_step': 110}\n"
     ]
    }
   ],
   "source": [
    "import time\n",
    "\n",
    "tf.logging.set_verbosity(tf.logging.ERROR)\n",
    "\n",
    "# Reduced from book example for easier computation\n",
    "TOTAL_STEPS = 100\n",
    "STEP_SIZE = 10\n",
    "\n",
    "for step in range(0, TOTAL_STEPS+1, STEP_SIZE):\n",
    "    print()\n",
    "    print('-'*50)\n",
    "    print('Training for step: ', step)\n",
    "    \n",
    "    start_time = time.time()\n",
    "    dnn.train(input_fn=train_input_fn, steps=STEP_SIZE)\n",
    "    elapsed_time = time.time() - start_time\n",
    "    \n",
    "    print('Seconds Elapsed:', elapsed_time)\n",
    "    print('Eval (Train):', dnn.evaluate(input_fn=predict_train_input_fn))\n",
    "    print('Eval (Validation):', dnn.evaluate(input_fn=predict_val_input_fn))"
   ]
  },
  {
   "cell_type": "markdown",
   "id": "08b4268f",
   "metadata": {},
   "source": [
    "#### Model Evaluation Metrics"
   ]
  },
  {
   "cell_type": "code",
   "execution_count": 118,
   "id": "544da7fd",
   "metadata": {},
   "outputs": [
    {
     "data": {
      "text/plain": [
       "{'accuracy': 0.8149839,\n",
       " 'accuracy_baseline': 0.5021482,\n",
       " 'auc': 0.90004086,\n",
       " 'auc_precision_recall': 0.89932245,\n",
       " 'average_loss': 0.40039706,\n",
       " 'label/mean': 0.5021482,\n",
       " 'loss': 49.70262,\n",
       " 'precision': 0.81970763,\n",
       " 'prediction/mean': 0.49094212,\n",
       " 'recall': 0.8096257,\n",
       " 'global_step': 110}"
      ]
     },
     "execution_count": 118,
     "metadata": {},
     "output_type": "execute_result"
    }
   ],
   "source": [
    "# Inputs train and test\n",
    "dnn.evaluate(input_fn=predict_train_input_fn)\n",
    "dnn.evaluate(input_fn=predict_test_input_fn)"
   ]
  }
 ],
 "metadata": {
  "kernelspec": {
   "display_name": "Python 3 (ipykernel)",
   "language": "python",
   "name": "python3"
  },
  "language_info": {
   "codemirror_mode": {
    "name": "ipython",
    "version": 3
   },
   "file_extension": ".py",
   "mimetype": "text/x-python",
   "name": "python",
   "nbconvert_exporter": "python",
   "pygments_lexer": "ipython3",
   "version": "3.9.10"
  }
 },
 "nbformat": 4,
 "nbformat_minor": 5
}
