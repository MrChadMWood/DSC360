{
 "cells": [
  {
   "cell_type": "markdown",
   "id": "c58f8000",
   "metadata": {},
   "source": [
    "===========================================\n",
    "\n",
    "\n",
    "Title: 2.2 Exercises\n",
    "\n",
    "\n",
    "Author: Chad Wood\n",
    "\n",
    "\n",
    "Date: 8 Dec 2021\n",
    "\n",
    "\n",
    "Modified By: Chad Wood\n",
    "\n",
    "\n",
    "Description: This program demonstrates the use of an API and formatting its response.\n",
    "\n",
    "\n",
    "=========================================== "
   ]
  },
  {
   "cell_type": "markdown",
   "id": "daf469d0",
   "metadata": {},
   "source": [
    "## Instructions:\n",
    "\n",
    "Use the very simple Bored API (https://www.boredapi.com/documentation) and create a simple output of the return as a Python dictionary or JSON string. Be sure you refer to the Python API Tutorial: Getting Started with APIs, which is part of your required reading for the week.\n",
    "\n",
    "\n",
    "From the JSON (or dictionary) result, get key from the JSON (or dictionary). With that key, use the API to get a specific activity. Format your output showing each attribute of the activity separately with a label and the value. For example:\n",
    "\n",
    "\n",
    "    Activity: Organize your pantry\n",
    "    Key: 3954882\n",
    "    Link: \"\"\n",
    "    Participants: 1\n",
    "    Price: $0.00\n",
    "    Type: Busywork\n",
    "    Accessibility: 0"
   ]
  },
  {
   "cell_type": "code",
   "execution_count": 2,
   "id": "28c5abf4",
   "metadata": {
    "scrolled": true
   },
   "outputs": [],
   "source": [
    "import requests"
   ]
  },
  {
   "cell_type": "code",
   "execution_count": 8,
   "id": "e18fc5e2",
   "metadata": {},
   "outputs": [
    {
     "name": "stdout",
     "output_type": "stream",
     "text": [
      "Activity: Organize your pantry\n",
      "Type: busywork\n",
      "Participants: 1\n",
      "Price: 0\n",
      "Link: \n",
      "Key: 3954882\n",
      "Accessibility: 0\n"
     ]
    }
   ],
   "source": [
    "url = 'http://www.boredapi.com/api/activity/'\n",
    "response = requests.get(url).json()\n",
    "\n",
    "# Obtains key from response, adds to url\n",
    "key = response['key']\n",
    "url = url[:-1] + f'?key={key}'\n",
    "\n",
    "# Obtains new response with key, prints in instructed format\n",
    "activity = requests.get(url).json()\n",
    "for k, v in activity.items():\n",
    "    print(f'{k.capitalize()}: {v}')"
   ]
  }
 ],
 "metadata": {
  "kernelspec": {
   "display_name": "Python 3 (ipykernel)",
   "language": "python",
   "name": "python3"
  },
  "language_info": {
   "codemirror_mode": {
    "name": "ipython",
    "version": 3
   },
   "file_extension": ".py",
   "mimetype": "text/x-python",
   "name": "python",
   "nbconvert_exporter": "python",
   "pygments_lexer": "ipython3",
   "version": "3.9.7"
  }
 },
 "nbformat": 4,
 "nbformat_minor": 5
}
