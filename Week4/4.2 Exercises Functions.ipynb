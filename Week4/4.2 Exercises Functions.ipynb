{
 "cells": [
  {
   "cell_type": "code",
   "execution_count": 1,
   "id": "8d245602",
   "metadata": {},
   "outputs": [
    {
     "name": "stdout",
     "output_type": "stream",
     "text": [
      "b'<meta name=\"dc.creator\" content=\"Anonymous\">\\r\\n<meta name=\"dc.subject\" content=\"Bible. Genesis\">\\r\\n<meta name=\"dcterms.created\" content=\"2005-04-01\">\\r\\n<meta name=\"generator\" content=\"Ebookmaker 0.11.30 by Project Gutenberg\">\\r\\n<meta property=\"og:title\" content=\"The Bible, King James version, Book 1: Genesis\">\\r\\n<meta property=\"og:type\" content=\"Text\">\\r\\n<meta property=\"og:url\" content=\"https://www.gutenberg.org/ebooks/8001/pg8001.html.utf8\">\\r\\n<meta property=\"og:image\" content=\"https://www.gutenberg.org/ebooks/8001/pg8001.cover.medium.jpg\">\\r\\n</head>\\r\\n<body>\\r\\n<p id=\"id00000\">Project Gutenberg EBook The Bible, King James, Book 1: Genesis</p>\\r\\n\\r\\n<p id=\"id00001\">Copyright laws are changing all over the world. Be sure to check the\\r\\ncopyright laws for your country before downloading or redistributing\\r\\nthis or any other Project Gutenberg eBook.</p>\\r\\n\\r\\n<p id=\"id00002\">This header should be the first thing seen when viewing this Project\\r\\nGutenberg file.  Please do not remove it. '\n"
     ]
    }
   ],
   "source": [
    "import requests\n",
    "\n",
    "\n",
    "data = requests.get('http://www.gutenberg.org/cache/epub/8001/pg8001.html')\n",
    "content = data.content\n",
    "\n",
    "print(content[4021:5000])"
   ]
  },
  {
   "cell_type": "code",
   "execution_count": 2,
   "id": "49c7425a",
   "metadata": {},
   "outputs": [
    {
     "name": "stdout",
     "output_type": "stream",
     "text": [
      "5  [EBook #8001]\n",
      "[Yes, we are more than one year ahead of schedule]\n",
      "[This file was first posted on June 7, 2003]\n",
      "Edition: 10\n",
      "Language: English\n",
      "*** START OF THE PROJECT GUTENBERG EBOOK, THE BIBLE, KING JAMES, BOOK 1***\n",
      "This eBook was produced by David Widger\n",
      "with the help of Derek Andrew's text from January 1992\n",
      "and the work of Bryan Taylor in November 2002.\n",
      "Book 01        Genesis\n",
      "01:001:001 In the beginning God created the heaven and the earth.\n",
      "01:001:002 And the earth was without form, and void; and darkness was\n",
      "           upon the face of the deep. And the Spirit of God moved upon\n",
      "           the face of the waters.\n",
      "01:001:003 And God said, Let there be light: and there was light.\n",
      "01:001:004 And God saw the light, that it was good: and God divided the\n",
      "           light from the darkness.\n",
      "01:001:005 And God called the light Day, and the darkness he called\n",
      "           Night. And the evening and the m\n"
     ]
    }
   ],
   "source": [
    "import re\n",
    "from bs4 import BeautifulSoup\n",
    "\n",
    "\n",
    "# Book example opts for s.extract. However,\n",
    "# s.decompose seems more pythonic for this purpose\n",
    "def strip_html_tags(text):\n",
    "    soup = BeautifulSoup(text, 'html.parser')\n",
    "    [s.decompose() for s in soup(['iframe', 'script'])]\n",
    "    stripped_text = soup.get_text()\n",
    "    \n",
    "    return re.sub(r'[\\r|\\n|\\r\\n]+', '\\n', stripped_text)\n",
    "\n",
    "\n",
    "htmless_content = strip_html_tags(content)\n",
    "\n",
    "print(htmless_content[1110:2020])"
   ]
  },
  {
   "cell_type": "code",
   "execution_count": 18,
   "id": "97846118",
   "metadata": {},
   "outputs": [
    {
     "data": {
      "text/plain": [
       "'This is a serious test.'"
      ]
     },
     "execution_count": 18,
     "metadata": {},
     "output_type": "execute_result"
    }
   ],
   "source": [
    "import unicodedata\n",
    "\n",
    "\n",
    "# Encode-Decode cycle from ascii to utf-8\n",
    "# Cycle ignores errors to strip accents\n",
    "def remove_accented_chars(text):\n",
    "    text = unicodedata.normalize('NFKD', text)\n",
    "    text = text.encode('ascii', 'ignore').decode('utf-8', 'ignore')\n",
    "    \n",
    "    return text\n",
    "\n",
    "\n",
    "remove_accented_chars('T̢̓ͦͦͦͨ͗͑͝͏̦̮̭̤̤̦͕̦̟̻̝͚̬͘ͅh͑͊́͛̄̑ͯ͗͟͠҉͓̤͖͇̘̦̜͘͡ͅi͆̓͛͆̔͏̶̼̹͔̭̯̱̼͓͙̘̦̞̪̥̫̰̣͙͟͡s̵̷͔͓̤͈̗̮̼͔̝̔͑̍ͯͯ̿͌͛̆̾ͨͬͯͫ͟ ̷͙̣̤̬͋̔ͫͮͥ̂͑ͤ́ͪͭ͘i̫̖̯͎͇͇͔̙̼͖̙̗̣ͧͥͬ͝s̸̴̢͖͇̹̤̃ͣͪ̓ͦ̑͞ ̨̧̺̱̻͔̳̦̖̠̽̒̄ͤȃ̴̸̷̪̰̥̫͔͙̙̗͓̫͓͚̩͒ͧ͗́̀ ̢͚̠̳̝̘͔̬̀̃̓ͮ̓̔̕͘͠s̨͔̬̠͈̬̣̤̙̾̊̾̽̑́́ė̵̴̢̖̠̲̖͖̭͙̫͚̜͙͈̘̦͖̠̜̣̠̌̓ͬͣͥ̇̚͜r̷̛͍̤͖̖̬͍̥̘͓̲̀ͭ̊̊̾̇ͬ͐͑ͫͬ̓̓͛́͡͞ị̧̧͇̣̥͙̟̰͖͉̲͉̗̩̮ͫͥ̈͋ͣ̆͛͛̎ͧ̈́̀̿̂̀͆ͩ̚͢ͅo̡̨̧ͨ̑̋̏̎̊̅ͭͩ͑̚͏̫̹̮͎̫̺̼̜̪̼͎̜̩͙̼ͅͅư̴̖̝͚͔͉͖̞̖͕̥̠̲̟͇ͮ̈́ͭ̍ͤ̇̉̾͊ͦ̔͑ͦͤͪ̂͟͡͞s̸̴̻̯͉̜̞͚̥͈̼̞̳̣̻̘͙͑̄ͧ̍ͤͧ̽ͤ̓ͯ̎̽͐͒̔͒̊̚̕ ̧̣̖̯̹̠̠̣͓̩̋͂̎̒̀ͪͭ̔̆̌ͧͩ̒̀̄ͣ̄̚͡t̨͍͇̪̲͙̱̺̟̬̍ͦ̿͆͆ͧͧ̇̂̕͡ȅ̝̞̼̦̙̔̈́͒̾̃̀̽͑͢͞͠s͆ͥ̒̽̽͋̓͊́̆̎ͭ̿͑ͣ͌͏͍̰̝͇͕̥̟̩̺̰͔̞̟͡͞ͅt̵̡̥̮͖̤͇̠̩̙̟̗̼̖̻͎̖̘ͣͮ̈͞.̣̗̱͖͙̪̯̺̘̊͒̎͒͋͌ͤ̕͝ͅ')"
   ]
  },
  {
   "cell_type": "code",
   "execution_count": 20,
   "id": "6f3a2900",
   "metadata": {},
   "outputs": [
    {
     "name": "stdout",
     "output_type": "stream",
     "text": [
      "Exanding contractions:\n",
      "You all cannot expand contractions I would think \n",
      "\n"
     ]
    }
   ],
   "source": [
    "import nltk\n",
    "from contractions import CONTRACTION_MAP\n",
    "import re\n",
    "\n",
    "\n",
    "def expand_contractions(sentence, contraction_mapping=CONTRACTION_MAP):\n",
    "    contractions_pattern = re.compile('({})'.format('|'.join(contraction_mapping.keys())), \n",
    "                                      flags=re.IGNORECASE|re.DOTALL)\n",
    "    \n",
    "    def expand_match(contraction):\n",
    "        match = contraction.group(0)\n",
    "        first_char = match[0]\n",
    "        expanded_contraction = contraction_mapping.get(match)\\\n",
    "                                if contraction_mapping.get(match)\\\n",
    "                                else contraction_mapping.get(match.lower())                       \n",
    "        expanded_contraction = first_char+expanded_contraction[1:]\n",
    "        return expanded_contraction\n",
    "\n",
    "    expaned_text = contractions_pattern.sub(expand_match, sentence)\n",
    "    expanded_text = re.sub(\"'\", \"\", expaned_text)\n",
    "    return expanded_text\n",
    "\n",
    "print('Exanding contractions:')\n",
    "print(expand_contractions(\"Y'all can't expand contractions I'd think\"), '\\n')"
   ]
  },
  {
   "cell_type": "code",
   "execution_count": 25,
   "id": "f2c01452",
   "metadata": {},
   "outputs": [
    {
     "data": {
      "text/plain": [
       "'TommyBoy1 hows the BrakePad business going'"
      ]
     },
     "execution_count": 25,
     "metadata": {},
     "output_type": "execute_result"
    }
   ],
   "source": [
    "def remove_special_chars(text, digits=False):\n",
    "    pattern = r'[^a-zA-z0-9\\s]' if not digits else r'[^a-zA-z\\s]'\n",
    "    text = re.sub(pattern, '', text)\n",
    "    \n",
    "    return text\n",
    "\n",
    "remove_special_chars('@TommyBoy1, hows the #BrakePad business going?')"
   ]
  },
  {
   "cell_type": "code",
   "execution_count": 34,
   "id": "c4656662",
   "metadata": {},
   "outputs": [
    {
     "data": {
      "text/plain": [
       "'My school is really amazing'"
      ]
     },
     "execution_count": 34,
     "metadata": {},
     "output_type": "execute_result"
    }
   ],
   "source": [
    "from nltk.corpus import wordnet\n",
    "\n",
    "try:\n",
    "  nltk.data.find('tokenizers/punkt')\n",
    "except LookupError:\n",
    "  nltk.download('punkt')\n",
    "\n",
    "try:\n",
    "  nltk.find('corpora/wordnet')\n",
    "except LookupError:\n",
    "  nltk.download('wordnet')\n",
    "\n",
    "\n",
    "def remove_repeat_chars(tokens):\n",
    "    repeat_pattern = re.compile(r'(\\w*)(\\w)\\2(\\w*)')\n",
    "    match_substitute = r'\\1\\2\\3'\n",
    "    \n",
    "    def replace(old_word):\n",
    "        if wordnet.synsets(old_word):\n",
    "            return old_word\n",
    "        new_word = repeat_pattern.sub(match_substitute, old_word)\n",
    "        return replace(new_word) if new_word != old_word else new_word\n",
    "    \n",
    "    correct_tokens = [replace(word) for word in tokens]\n",
    "    return correct_tokens\n",
    "\n",
    "\n",
    "sample_sentence = 'My schooool is realllllyyy amaaazingggg'\n",
    "correct_tokens = remove_repeat_chars(nltk.word_tokenize(sample_sentence))\n",
    "' '.join(correct_tokens)"
   ]
  },
  {
   "cell_type": "code",
   "execution_count": 6,
   "id": "60f41251",
   "metadata": {},
   "outputs": [
    {
     "data": {
      "text/plain": [
       "'my system keep crash ! his crash yesterday , ours crash daily'"
      ]
     },
     "execution_count": 6,
     "metadata": {},
     "output_type": "execute_result"
    }
   ],
   "source": [
    "import spacy\n",
    "nlp = spacy.load('en_core_web_sm')\n",
    "\n",
    "\n",
    "def lemmatize_text(text):\n",
    "    text = nlp(text)\n",
    "    text = ' '.join([word.lemma_ \n",
    "                     if word.lemma_ != '-PRON-' \n",
    "                     else word.text for word in text])\n",
    "    \n",
    "    return text\n",
    "\n",
    "\n",
    "lemmatize_text(\"My system keeps crashing! his crashed yesterday, ours crashes daily\")"
   ]
  },
  {
   "cell_type": "code",
   "execution_count": 42,
   "id": "0d66032d",
   "metadata": {},
   "outputs": [
    {
     "data": {
      "text/plain": [
       "', , stopwords , computer'"
      ]
     },
     "execution_count": 42,
     "metadata": {},
     "output_type": "execute_result"
    }
   ],
   "source": [
    "from nltk.tokenize.toktok import ToktokTokenizer\n",
    "\n",
    "try:\n",
    "  nltk.find('corpora/stopwords')\n",
    "except LookupError:\n",
    "  nltk.download('stopwords')\n",
    "\n",
    "\n",
    "tokenizer = ToktokTokenizer()\n",
    "stopword_list = nltk.corpus.stopwords.words('english')\n",
    "\n",
    "def remove_stopwords(text, is_lower_case=False):\n",
    "    tokens = tokenizer.tokenize(text)\n",
    "    tokens = [token.strip() for token in tokens]\n",
    "    \n",
    "    if is_lower_case:\n",
    "        filtered_tokens = [token for token in tokens if token not in stopword_list]\n",
    "    else:\n",
    "        filtered_tokens = [token for token in tokens if token.lower() not in stopword_list]\n",
    "\n",
    "    filtered_text = ' '.join(filtered_tokens)\n",
    "    \n",
    "    return filtered_text\n",
    "\n",
    "\n",
    "remove_stopwords(\"The, and, if are stopwords, computer is not\")"
   ]
  },
  {
   "cell_type": "code",
   "execution_count": null,
   "id": "0e4230f0",
   "metadata": {},
   "outputs": [],
   "source": [
    "def normalize_corpus(corpus, html_stripping=True, contraction_expansion=True,\n",
    "                     accented_char_removal=True, text_lower_case=True,\n",
    "                     text_lemmatization=True, special_char_removal=True,\n",
    "                     stopword_removal=True, remove_digits=True):\n",
    "\n",
    "    normalized_corpus = []\n",
    "    # normalize each document in the corpus\n",
    "    for doc in corpus:\n",
    "        # strip HTML\n",
    "        if html_stripping:\n",
    "            doc = strip_html_tags(doc)\n",
    "        # remove accented characters\n",
    "        if accented_char_removal:\n",
    "            doc = remove_accented_chars(doc)\n",
    "        # expand contractions\n",
    "        if contraction_expansion:\n",
    "            doc = expand_contractions(doc)\n",
    "        # lowercase the text\n",
    "        if text_lower_case:\n",
    "            doc = doc.lower()\n",
    "        # remove extra newlines\n",
    "        doc = re.sub(r'[\\r|\\n|\\r\\n]+', ' ',doc)\n",
    "        # lemmatize text\n",
    "        if text_lemmatization:\n",
    "            doc = lemmatize_text(doc)\n",
    "        # remove special characters and\\or digits\n",
    "        if special_char_removal:\n",
    "            # insert spaces between special characters to isolate them\n",
    "            special_char_pattern = re.compile(r'([{.(-)!}])')\n",
    "            doc = special_char_pattern.sub(\" \\\\1 \", doc)\n",
    "            doc = remove_special_characters(doc, remove_digits=remove_digits)\n",
    "        # remove extra whitespace\n",
    "        doc = re.sub(' +', ' ', doc)\n",
    "        # remove stopwords\n",
    "        if stopword_removal:\n",
    "            doc = remove_stopwords(doc, is_lower_case=text_lower_case)\n",
    "\n",
    "    normalized_corpus.append(doc)\n",
    "    return normalized_corpus"
   ]
  }
 ],
 "metadata": {
  "kernelspec": {
   "display_name": "Python 3 (ipykernel)",
   "language": "python",
   "name": "python3"
  },
  "language_info": {
   "codemirror_mode": {
    "name": "ipython",
    "version": 3
   },
   "file_extension": ".py",
   "mimetype": "text/x-python",
   "name": "python",
   "nbconvert_exporter": "python",
   "pygments_lexer": "ipython3",
   "version": "3.9.7"
  }
 },
 "nbformat": 4,
 "nbformat_minor": 5
}
